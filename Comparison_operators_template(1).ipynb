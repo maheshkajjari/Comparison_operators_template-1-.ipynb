{
  "nbformat": 4,
  "nbformat_minor": 0,
  "metadata": {
    "kernelspec": {
      "display_name": "Python 3",
      "language": "python",
      "name": "python3"
    },
    "language_info": {
      "codemirror_mode": {
        "name": "ipython",
        "version": 3
      },
      "file_extension": ".py",
      "mimetype": "text/x-python",
      "name": "python",
      "nbconvert_exporter": "python",
      "pygments_lexer": "ipython3",
      "version": "3.7.6"
    },
    "colab": {
      "name": "Comparison_operators_template(1).ipynb",
      "provenance": [],
      "include_colab_link": true
    }
  },
  "cells": [
    {
      "cell_type": "markdown",
      "metadata": {
        "id": "view-in-github",
        "colab_type": "text"
      },
      "source": [
        "<a href=\"https://colab.research.google.com/github/maheshkajjari/Comparison_operators_template-1-.ipynb/blob/master/Comparison_operators_template(1).ipynb\" target=\"_parent\"><img src=\"https://colab.research.google.com/assets/colab-badge.svg\" alt=\"Open In Colab\"/></a>"
      ]
    },
    {
      "cell_type": "markdown",
      "metadata": {
        "id": "swjI2m7NxJLW",
        "colab_type": "text"
      },
      "source": [
        "# Comparison Operators"
      ]
    },
    {
      "cell_type": "code",
      "metadata": {
        "id": "MGiLiiuexJLa",
        "colab_type": "code",
        "colab": {
          "base_uri": "https://localhost:8080/",
          "height": 35
        },
        "outputId": "2d18d8e2-0c5a-499d-9603-f07e9d533bee"
      },
      "source": [
        "import numpy as np\n",
        "np_length = np.array([2.7, 3.4, 4.7, 6.6, 7.8])\n",
        "np_breath = np.array([3.7, 1.4, 2.7, 3.6, 1.8])\n",
        "np_height = np.array([1.7, 2.4, 1.7, 0.6, 1.8])\n",
        "vol_cuboid = np_length * np_breath * np_height\n",
        "vol_cuboid"
      ],
      "execution_count": null,
      "outputs": [
        {
          "output_type": "execute_result",
          "data": {
            "text/plain": [
              "array([16.983, 11.424, 21.573, 14.256, 25.272])"
            ]
          },
          "metadata": {
            "tags": []
          },
          "execution_count": 2
        }
      ]
    },
    {
      "cell_type": "markdown",
      "metadata": {
        "id": "qhwagT0TxJL8",
        "colab_type": "text"
      },
      "source": [
        "Show the vol_cuboid which are greater than 15"
      ]
    },
    {
      "cell_type": "code",
      "metadata": {
        "id": "1e8f92jyxJME",
        "colab_type": "code",
        "colab": {
          "base_uri": "https://localhost:8080/",
          "height": 72
        },
        "outputId": "d6ad121b-83fc-4e4b-c5bd-e26cffbea6d9"
      },
      "source": [
        " print(\"Input\")\n",
        "a = np.array([16.983, 11.424, 21.573, 14.256, 25.272])\n",
        "a\n",
        "print(\"Solution\")\n",
        "a[(a > 15)]"
      ],
      "execution_count": null,
      "outputs": [
        {
          "output_type": "stream",
          "text": [
            "Input\n",
            "Solution\n"
          ],
          "name": "stdout"
        },
        {
          "output_type": "execute_result",
          "data": {
            "text/plain": [
              "array([16.983, 21.573, 25.272])"
            ]
          },
          "metadata": {
            "tags": []
          },
          "execution_count": 34
        }
      ]
    },
    {
      "cell_type": "markdown",
      "metadata": {
        "id": "I6WjQHfaxJMS",
        "colab_type": "text"
      },
      "source": [
        "## Numeric & Variable Comparison"
      ]
    },
    {
      "cell_type": "markdown",
      "metadata": {
        "id": "UU-ye7ByxJMX",
        "colab_type": "text"
      },
      "source": [
        "Using comparison operators show:\n",
        "\n",
        "Q1. If 10.5 is greater thean 10\n",
        "\n",
        "Q2. If 10.5 is greater than equal to 10.5\n",
        "\n",
        "Q3. If 20 is equal to 20.1\n",
        "\n",
        "Q4. If Ansh is greater than Anshu\n",
        "\n",
        "Q5. If Monkey is greater than 5"
      ]
    },
    {
      "cell_type": "code",
      "metadata": {
        "id": "aoP2IzdBxJMZ",
        "colab_type": "code",
        "colab": {
          "base_uri": "https://localhost:8080/",
          "height": 72
        },
        "outputId": "8d17a411-d775-47f3-b671-ba6d07bdebf6"
      },
      "source": [
        "x = np.array([10.5])\n",
        "print('Original Array = ', 10.5)\n",
        "print('\\nGreater Than  = ', np.greater(x, 10))\n",
        " "
      ],
      "execution_count": null,
      "outputs": [
        {
          "output_type": "stream",
          "text": [
            "Original Array =  10.5\n",
            "\n",
            "Greater Than eual to  =  [ True]\n"
          ],
          "name": "stdout"
        }
      ]
    },
    {
      "cell_type": "code",
      "metadata": {
        "id": "tw_5g6psxJMh",
        "colab_type": "code",
        "colab": {
          "base_uri": "https://localhost:8080/",
          "height": 72
        },
        "outputId": "f0a7a266-678d-4ac8-a11f-439e5f262202"
      },
      "source": [
        "x = np.array([10.5])\n",
        "print('Original Array = ', 10.5)\n",
        "print('\\nGreater Than equal to = ', np.greater_equal(x, 10))"
      ],
      "execution_count": null,
      "outputs": [
        {
          "output_type": "stream",
          "text": [
            "Original Array =  10.5\n",
            "\n",
            "Greater Than equal to =  [ True]\n"
          ],
          "name": "stdout"
        }
      ]
    },
    {
      "cell_type": "code",
      "metadata": {
        "id": "4cmgKa3OxJMs",
        "colab_type": "code",
        "colab": {}
      },
      "source": [
        " "
      ],
      "execution_count": null,
      "outputs": []
    },
    {
      "cell_type": "code",
      "metadata": {
        "id": "RR2-vkb4xJM1",
        "colab_type": "code",
        "colab": {}
      },
      "source": [
        "# 4\n",
        "## Start code here\n",
        "\n",
        "## End here"
      ],
      "execution_count": null,
      "outputs": []
    },
    {
      "cell_type": "code",
      "metadata": {
        "id": "YYH_79ypxJM-",
        "colab_type": "code",
        "colab": {}
      },
      "source": [
        "# 5\n",
        "## Start code here\n",
        "\n",
        "## End here"
      ],
      "execution_count": null,
      "outputs": []
    },
    {
      "cell_type": "markdown",
      "metadata": {
        "id": "lP8rmCH-xJNG",
        "colab_type": "text"
      },
      "source": [
        "## Boolean Operators\n",
        "\n",
        "1. and\n",
        "2. or\n",
        "3. not"
      ]
    },
    {
      "cell_type": "markdown",
      "metadata": {
        "id": "aVM9cBidxJNI",
        "colab_type": "text"
      },
      "source": [
        "Q1. Use and operator to check if x is greater than 2 and less than 10\n",
        "\n",
        "Q2. Use or operator to check if x is grater than 3 and less than 10\n",
        "\n",
        "Q3. Use not operator to check if x is greater than 5 and less than 8"
      ]
    },
    {
      "cell_type": "code",
      "metadata": {
        "id": "Wwm_dDn60PvI",
        "colab_type": "code",
        "colab": {
          "base_uri": "https://localhost:8080/",
          "height": 35
        },
        "outputId": "a1041e28-495c-41a5-de92-654bc3b4a866"
      },
      "source": [
        "c = np.array([2, 6, 1, 9, 10, 3, 27])\n",
        "c"
      ],
      "execution_count": null,
      "outputs": [
        {
          "output_type": "execute_result",
          "data": {
            "text/plain": [
              "array([ 2,  6,  1,  9, 10,  3, 27])"
            ]
          },
          "metadata": {
            "tags": []
          },
          "execution_count": 3
        }
      ]
    },
    {
      "cell_type": "code",
      "metadata": {
        "id": "6TXacboNxJNJ",
        "colab_type": "code",
        "colab": {
          "base_uri": "https://localhost:8080/",
          "height": 35
        },
        "outputId": "7ab6a472-f73c-4054-a269-d7480a8cdd95"
      },
      "source": [
        " c[(c > 2) & (c < 10)]\n",
        " "
      ],
      "execution_count": null,
      "outputs": [
        {
          "output_type": "execute_result",
          "data": {
            "text/plain": [
              "array([6, 9, 3])"
            ]
          },
          "metadata": {
            "tags": []
          },
          "execution_count": 4
        }
      ]
    },
    {
      "cell_type": "code",
      "metadata": {
        "id": "wS2c56anxJNR",
        "colab_type": "code",
        "colab": {
          "base_uri": "https://localhost:8080/",
          "height": 35
        },
        "outputId": "6975dd46-d63e-4cec-c838-ed96f3ee8c09"
      },
      "source": [
        " c[(c > 3) & (c < 10)]"
      ],
      "execution_count": null,
      "outputs": [
        {
          "output_type": "execute_result",
          "data": {
            "text/plain": [
              "array([6, 9])"
            ]
          },
          "metadata": {
            "tags": []
          },
          "execution_count": 6
        }
      ]
    },
    {
      "cell_type": "code",
      "metadata": {
        "id": "24uv2oC2xJNY",
        "colab_type": "code",
        "colab": {
          "base_uri": "https://localhost:8080/",
          "height": 35
        },
        "outputId": "3b1efc6f-9c09-4dda-8b71-92a6b58ff8c5"
      },
      "source": [
        "c[(c > 5) & (c < 8)]\n",
        "\n",
        "## End here"
      ],
      "execution_count": null,
      "outputs": [
        {
          "output_type": "execute_result",
          "data": {
            "text/plain": [
              "array([6])"
            ]
          },
          "metadata": {
            "tags": []
          },
          "execution_count": 8
        }
      ]
    },
    {
      "cell_type": "markdown",
      "metadata": {
        "id": "XflhXe8zxJNf",
        "colab_type": "text"
      },
      "source": [
        "## Numpy\n",
        "\n",
        "1. logical_and()\n",
        "2. logical_or()\n",
        "3. logical_not()"
      ]
    },
    {
      "cell_type": "markdown",
      "metadata": {
        "id": "cXn_lUwQxJNh",
        "colab_type": "text"
      },
      "source": [
        "Q1. Use the logical_and operator to check if vol_cuboid is greater than 11 and less than 20\n",
        "\n",
        "Q2. Use the logical_or operator to check if vol_cuboid is greater than 11 and less than 20\n",
        "\n",
        "Q3. Use the logical_not operator to check if vol_cuboid is greater than 11 and less than 20"
      ]
    },
    {
      "cell_type": "code",
      "metadata": {
        "id": "Cnjvq1PkxJNi",
        "colab_type": "code",
        "colab": {
          "base_uri": "https://localhost:8080/",
          "height": 35
        },
        "outputId": "db775271-7716-40a3-b5af-8354920516b7"
      },
      "source": [
        "  x = vol_cuboid\n",
        "  np.logical_and(x > 11, x < 20)"
      ],
      "execution_count": null,
      "outputs": [
        {
          "output_type": "execute_result",
          "data": {
            "text/plain": [
              "array([False, False, False, False, False])"
            ]
          },
          "metadata": {
            "tags": []
          },
          "execution_count": 16
        }
      ]
    },
    {
      "cell_type": "code",
      "metadata": {
        "id": "0IGwqUlfxJNr",
        "colab_type": "code",
        "colab": {
          "base_uri": "https://localhost:8080/",
          "height": 35
        },
        "outputId": "d86d617d-93e0-4c6d-b091-32bf912f6f9d"
      },
      "source": [
        " x = vol_cuboid\n",
        "\n",
        "np.logical_or(x < 20, x > 11)"
      ],
      "execution_count": null,
      "outputs": [
        {
          "output_type": "execute_result",
          "data": {
            "text/plain": [
              "array([ True,  True,  True,  True,  True])"
            ]
          },
          "metadata": {
            "tags": []
          },
          "execution_count": 12
        }
      ]
    },
    {
      "cell_type": "code",
      "metadata": {
        "id": "owfayKIKxJNz",
        "colab_type": "code",
        "colab": {
          "base_uri": "https://localhost:8080/",
          "height": 35
        },
        "outputId": "dcfabc69-5e4d-458b-dd9a-53b1ef701c55"
      },
      "source": [
        " x = vol_cuboid\n",
        " np.logical_not(x < 20, x > 11)"
      ],
      "execution_count": null,
      "outputs": [
        {
          "output_type": "execute_result",
          "data": {
            "text/plain": [
              "array([False, False, False, False, False])"
            ]
          },
          "metadata": {
            "tags": []
          },
          "execution_count": 17
        }
      ]
    },
    {
      "cell_type": "markdown",
      "metadata": {
        "id": "lOZMVsSyxJN6",
        "colab_type": "text"
      },
      "source": [
        "## if , elif , else"
      ]
    },
    {
      "cell_type": "code",
      "metadata": {
        "id": "32UPrd_nxJN8",
        "colab_type": "code",
        "colab": {}
      },
      "source": [
        "a = 100\n",
        "b = 10"
      ],
      "execution_count": null,
      "outputs": []
    },
    {
      "cell_type": "markdown",
      "metadata": {
        "id": "jXcQH6vXxJOC",
        "colab_type": "text"
      },
      "source": [
        "Q1. Use if condition statment to check if a is greater than b and print the greatest number.\n",
        "\n",
        "Q2. Use else condition statment to check if b is greater or less than a and print the greatest number.\n",
        "\n",
        "Q3. Use elif condition statment to check if b is greater , less than or equal to a and print the greatest number."
      ]
    },
    {
      "cell_type": "code",
      "metadata": {
        "id": "a0_fTT4qxJOE",
        "colab_type": "code",
        "colab": {
          "base_uri": "https://localhost:8080/",
          "height": 72
        },
        "outputId": "c2a6662a-e8fc-480d-c09e-46a1f061d59c"
      },
      "source": [
        "\n",
        "a = float(input(\" Please Enter the First Value a: \"))\n",
        "b = float(input(\" Please Enter the Second Value b: \"))\n",
        "\n",
        "if(a > b):\n",
        "    print(\"{0} is Greater than {1}\".format(a, b))\n",
        "elif(b > a):\n",
        "    print(\"{0} is Greater than {1}\".format(b, a))\n",
        "else:\n",
        "    print(\"Both a and b are Equal\")"
      ],
      "execution_count": null,
      "outputs": [
        {
          "output_type": "stream",
          "text": [
            " Please Enter the First Value a: 100\n",
            " Please Enter the Second Value b: 10\n",
            "100.0 is Greater than 10.0\n"
          ],
          "name": "stdout"
        }
      ]
    },
    {
      "cell_type": "markdown",
      "metadata": {
        "id": "tZSR1iUuxJOd",
        "colab_type": "text"
      },
      "source": [
        "## Filtering pandas Dataframes"
      ]
    },
    {
      "cell_type": "code",
      "metadata": {
        "id": "iLdEYYpexJOf",
        "colab_type": "code",
        "colab": {
          "base_uri": "https://localhost:8080/",
          "height": 238
        },
        "outputId": "ab9d8424-539d-4be0-de41-7515162bef2d"
      },
      "source": [
        "df = {\n",
        "    \"Name\": [\"aparna\", \"pankaj\", \"sudhir\", \"Geeku\", \"Chiku\", \"Jeniffer\"], \n",
        "    \"Degree\": [\"Bsc\", \"Engineering\", \"Law\", \"MBBS\", \"Phd\", \"Nursing\"],\n",
        "    \"College\": [\"VIT\", \"IIT\", \"KIIT\", \"AIMS\", \"IIIT\", \"APPOLO\"],\n",
        "    \"Score\": [90, 70, 80, 98, 76, 89]} \n",
        "\n",
        "import pandas as pd\n",
        "dataframe = pd.DataFrame(df)\n",
        "dataframe"
      ],
      "execution_count": null,
      "outputs": [
        {
          "output_type": "execute_result",
          "data": {
            "text/html": [
              "<div>\n",
              "<style scoped>\n",
              "    .dataframe tbody tr th:only-of-type {\n",
              "        vertical-align: middle;\n",
              "    }\n",
              "\n",
              "    .dataframe tbody tr th {\n",
              "        vertical-align: top;\n",
              "    }\n",
              "\n",
              "    .dataframe thead th {\n",
              "        text-align: right;\n",
              "    }\n",
              "</style>\n",
              "<table border=\"1\" class=\"dataframe\">\n",
              "  <thead>\n",
              "    <tr style=\"text-align: right;\">\n",
              "      <th></th>\n",
              "      <th>Name</th>\n",
              "      <th>Degree</th>\n",
              "      <th>College</th>\n",
              "      <th>Score</th>\n",
              "    </tr>\n",
              "  </thead>\n",
              "  <tbody>\n",
              "    <tr>\n",
              "      <th>0</th>\n",
              "      <td>aparna</td>\n",
              "      <td>Bsc</td>\n",
              "      <td>VIT</td>\n",
              "      <td>90</td>\n",
              "    </tr>\n",
              "    <tr>\n",
              "      <th>1</th>\n",
              "      <td>pankaj</td>\n",
              "      <td>Engineering</td>\n",
              "      <td>IIT</td>\n",
              "      <td>70</td>\n",
              "    </tr>\n",
              "    <tr>\n",
              "      <th>2</th>\n",
              "      <td>sudhir</td>\n",
              "      <td>Law</td>\n",
              "      <td>KIIT</td>\n",
              "      <td>80</td>\n",
              "    </tr>\n",
              "    <tr>\n",
              "      <th>3</th>\n",
              "      <td>Geeku</td>\n",
              "      <td>MBBS</td>\n",
              "      <td>AIMS</td>\n",
              "      <td>98</td>\n",
              "    </tr>\n",
              "    <tr>\n",
              "      <th>4</th>\n",
              "      <td>Chiku</td>\n",
              "      <td>Phd</td>\n",
              "      <td>IIIT</td>\n",
              "      <td>76</td>\n",
              "    </tr>\n",
              "    <tr>\n",
              "      <th>5</th>\n",
              "      <td>Jeniffer</td>\n",
              "      <td>Nursing</td>\n",
              "      <td>APPOLO</td>\n",
              "      <td>89</td>\n",
              "    </tr>\n",
              "  </tbody>\n",
              "</table>\n",
              "</div>"
            ],
            "text/plain": [
              "       Name       Degree College  Score\n",
              "0    aparna          Bsc     VIT     90\n",
              "1    pankaj  Engineering     IIT     70\n",
              "2    sudhir          Law    KIIT     80\n",
              "3     Geeku         MBBS    AIMS     98\n",
              "4     Chiku          Phd    IIIT     76\n",
              "5  Jeniffer      Nursing  APPOLO     89"
            ]
          },
          "metadata": {
            "tags": []
          },
          "execution_count": 25
        }
      ]
    },
    {
      "cell_type": "markdown",
      "metadata": {
        "id": "AJmDBox0xJOk",
        "colab_type": "text"
      },
      "source": [
        "Q1. Access the Score column\n",
        "\n",
        "Q2. Use comparison operator to show which students has score greater than 80\n",
        "\n",
        "Q3. Use logical_and operator to see scores greater than 75 and less than 90"
      ]
    },
    {
      "cell_type": "code",
      "metadata": {
        "id": "QqoPkH-_xJOn",
        "colab_type": "code",
        "colab": {
          "base_uri": "https://localhost:8080/",
          "height": 35
        },
        "outputId": "9e624a8c-d3e3-46bb-a288-34f684fd6fcf"
      },
      "source": [
        "df['Score']"
      ],
      "execution_count": null,
      "outputs": [
        {
          "output_type": "execute_result",
          "data": {
            "text/plain": [
              "[90, 70, 80, 98, 76, 89]"
            ]
          },
          "metadata": {
            "tags": []
          },
          "execution_count": 26
        }
      ]
    },
    {
      "cell_type": "code",
      "metadata": {
        "id": "2L0MDXmQHFyE",
        "colab_type": "code",
        "colab": {}
      },
      "source": [
        "np.greater(x, 80))"
      ],
      "execution_count": null,
      "outputs": []
    },
    {
      "cell_type": "code",
      "metadata": {
        "id": "0FjHCH1pxJO4",
        "colab_type": "code",
        "colab": {}
      },
      "source": [
        "  np.logical_and(x > 75, x < 90)"
      ],
      "execution_count": null,
      "outputs": []
    }
  ]
}